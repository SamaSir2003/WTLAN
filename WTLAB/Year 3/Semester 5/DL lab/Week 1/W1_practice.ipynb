{
 "cells": [
  {
   "cell_type": "markdown",
   "metadata": {},
   "source": [
    "- NN where all neurons are interconnected to next layer = Dense or FCNN (Fully connected)  \n",
    "- The dense NN forms a bipartite graph\n",
    "- We optimise weights and biases (the params) of a NN during training by reducing the loss\n",
    "- We initialise random weights and bias, do forward prop, get result, calc loss, do backward prop to recompute weights\n",
    "- We use softmax at the output layer for multiclass classification and sparse categorical cross entropy loss. RMSE loss for regression and ReLU or linear for act fn"
   ]
  },
  {
   "cell_type": "code",
   "execution_count": null,
   "metadata": {},
   "outputs": [],
   "source": [
    "import tensorflow as tf\n",
    "import numpy as np\n",
    "from tensorflow.keras.models import Sequential\n",
    "from tensorflow.keras.layers import Dense, Input"
   ]
  },
  {
   "cell_type": "code",
   "execution_count": null,
   "metadata": {},
   "outputs": [
    {
     "name": "stdout",
     "output_type": "stream",
     "text": [
      "2.12.0\n"
     ]
    }
   ],
   "source": [
    "print(tf.__version__)"
   ]
  },
  {
   "cell_type": "code",
   "execution_count": null,
   "metadata": {},
   "outputs": [
    {
     "name": "stdout",
     "output_type": "stream",
     "text": [
      "tf.Tensor(2, shape=(), dtype=int32)\n"
     ]
    }
   ],
   "source": [
    "x = tf.constant(2) # Rank 0, no shape\n",
    "print(x)"
   ]
  },
  {
   "cell_type": "code",
   "execution_count": null,
   "metadata": {},
   "outputs": [
    {
     "name": "stdout",
     "output_type": "stream",
     "text": [
      "tf.Tensor([1 2], shape=(2,), dtype=int32)\n"
     ]
    }
   ],
   "source": [
    "y = tf.constant([1, 2]) # Rank 1\n",
    "print(y)"
   ]
  },
  {
   "cell_type": "code",
   "execution_count": null,
   "metadata": {},
   "outputs": [
    {
     "name": "stdout",
     "output_type": "stream",
     "text": [
      "tf.Tensor(\n",
      "[[1 2]\n",
      " [3 4]], shape=(2, 2), dtype=int32)\n"
     ]
    }
   ],
   "source": [
    "z = tf.constant([[1, 2], [3, 4]]) # Rank 2\n",
    "print(z)"
   ]
  },
  {
   "cell_type": "code",
   "execution_count": null,
   "metadata": {},
   "outputs": [],
   "source": [
    "samples = 1000\n",
    "features = 10\n",
    "classes = 2\n",
    "X = np.random.rand(samples, features)\n",
    "y = np.random.randint(0, classes, size=samples)"
   ]
  },
  {
   "cell_type": "code",
   "execution_count": null,
   "metadata": {},
   "outputs": [],
   "source": [
    "split = int(samples * 0.8)\n",
    "X_train, X_test = X[:split], X[split:]\n",
    "y_train, y_test = y[:split], y[split:]"
   ]
  },
  {
   "cell_type": "code",
   "execution_count": null,
   "metadata": {},
   "outputs": [],
   "source": [
    "model = Sequential([\n",
    "    Input(shape=(features,)),\n",
    "    Dense(6,  activation='relu'),\n",
    "    Dense(classes, activation='softmax'),\n",
    "])"
   ]
  },
  {
   "cell_type": "code",
   "execution_count": null,
   "metadata": {},
   "outputs": [
    {
     "name": "stdout",
     "output_type": "stream",
     "text": [
      "Model: \"sequential\"\n",
      "_________________________________________________________________\n",
      " Layer (type)                Output Shape              Param #   \n",
      "=================================================================\n",
      " dense (Dense)               (None, 6)                 66        \n",
      "                                                                 \n",
      " dense_1 (Dense)             (None, 2)                 14        \n",
      "                                                                 \n",
      "=================================================================\n",
      "Total params: 80\n",
      "Trainable params: 80\n",
      "Non-trainable params: 0\n",
      "_________________________________________________________________\n"
     ]
    }
   ],
   "source": [
    "model.summary()"
   ]
  },
  {
   "cell_type": "code",
   "execution_count": null,
   "metadata": {},
   "outputs": [],
   "source": [
    "model.compile(optimizer='adam', loss='sparse_categorical_crossentropy', metrics=['accuracy'])"
   ]
  },
  {
   "cell_type": "code",
   "execution_count": null,
   "metadata": {},
   "outputs": [
    {
     "name": "stdout",
     "output_type": "stream",
     "text": [
      "Epoch 1/50\n",
      "23/23 [==============================] - 1s 10ms/step - loss: 0.6871 - accuracy: 0.5236 - val_loss: 0.7061 - val_accuracy: 0.4500\n",
      "Epoch 2/50\n",
      "23/23 [==============================] - 0s 5ms/step - loss: 0.6861 - accuracy: 0.5167 - val_loss: 0.7096 - val_accuracy: 0.4375\n",
      "Epoch 3/50\n",
      "23/23 [==============================] - 0s 5ms/step - loss: 0.6860 - accuracy: 0.5125 - val_loss: 0.7102 - val_accuracy: 0.4375\n",
      "Epoch 4/50\n",
      "23/23 [==============================] - 0s 4ms/step - loss: 0.6853 - accuracy: 0.5139 - val_loss: 0.7091 - val_accuracy: 0.4500\n",
      "Epoch 5/50\n",
      "23/23 [==============================] - 0s 5ms/step - loss: 0.6851 - accuracy: 0.5194 - val_loss: 0.7055 - val_accuracy: 0.4625\n",
      "Epoch 6/50\n",
      "23/23 [==============================] - 0s 4ms/step - loss: 0.6845 - accuracy: 0.5278 - val_loss: 0.7061 - val_accuracy: 0.4500\n",
      "Epoch 7/50\n",
      "23/23 [==============================] - 0s 4ms/step - loss: 0.6845 - accuracy: 0.5250 - val_loss: 0.7079 - val_accuracy: 0.4625\n",
      "Epoch 8/50\n",
      "23/23 [==============================] - 0s 4ms/step - loss: 0.6840 - accuracy: 0.5389 - val_loss: 0.7114 - val_accuracy: 0.4875\n",
      "Epoch 9/50\n",
      "23/23 [==============================] - 0s 4ms/step - loss: 0.6837 - accuracy: 0.5264 - val_loss: 0.7096 - val_accuracy: 0.4375\n",
      "Epoch 10/50\n",
      "23/23 [==============================] - 0s 4ms/step - loss: 0.6833 - accuracy: 0.5319 - val_loss: 0.7074 - val_accuracy: 0.4750\n",
      "Epoch 11/50\n",
      "23/23 [==============================] - 0s 4ms/step - loss: 0.6832 - accuracy: 0.5375 - val_loss: 0.7079 - val_accuracy: 0.4625\n",
      "Epoch 12/50\n",
      "23/23 [==============================] - 0s 4ms/step - loss: 0.6828 - accuracy: 0.5347 - val_loss: 0.7069 - val_accuracy: 0.4500\n",
      "Epoch 13/50\n",
      "23/23 [==============================] - 0s 4ms/step - loss: 0.6822 - accuracy: 0.5389 - val_loss: 0.7106 - val_accuracy: 0.4500\n",
      "Epoch 14/50\n",
      "23/23 [==============================] - 0s 4ms/step - loss: 0.6818 - accuracy: 0.5389 - val_loss: 0.7092 - val_accuracy: 0.4625\n",
      "Epoch 15/50\n",
      "23/23 [==============================] - 0s 5ms/step - loss: 0.6820 - accuracy: 0.5389 - val_loss: 0.7065 - val_accuracy: 0.4375\n",
      "Epoch 16/50\n",
      "23/23 [==============================] - 0s 4ms/step - loss: 0.6814 - accuracy: 0.5361 - val_loss: 0.7093 - val_accuracy: 0.4500\n",
      "Epoch 17/50\n",
      "23/23 [==============================] - 0s 4ms/step - loss: 0.6813 - accuracy: 0.5417 - val_loss: 0.7076 - val_accuracy: 0.4375\n",
      "Epoch 18/50\n",
      "23/23 [==============================] - 0s 4ms/step - loss: 0.6806 - accuracy: 0.5417 - val_loss: 0.7109 - val_accuracy: 0.4500\n",
      "Epoch 19/50\n",
      "23/23 [==============================] - 0s 4ms/step - loss: 0.6806 - accuracy: 0.5403 - val_loss: 0.7091 - val_accuracy: 0.4625\n",
      "Epoch 20/50\n",
      "23/23 [==============================] - 0s 4ms/step - loss: 0.6805 - accuracy: 0.5486 - val_loss: 0.7113 - val_accuracy: 0.4500\n",
      "Epoch 21/50\n",
      "23/23 [==============================] - 0s 4ms/step - loss: 0.6801 - accuracy: 0.5486 - val_loss: 0.7091 - val_accuracy: 0.4375\n",
      "Epoch 22/50\n",
      "23/23 [==============================] - 0s 4ms/step - loss: 0.6799 - accuracy: 0.5389 - val_loss: 0.7099 - val_accuracy: 0.4375\n",
      "Epoch 23/50\n",
      "23/23 [==============================] - 0s 4ms/step - loss: 0.6798 - accuracy: 0.5500 - val_loss: 0.7093 - val_accuracy: 0.4500\n",
      "Epoch 24/50\n",
      "23/23 [==============================] - 0s 4ms/step - loss: 0.6794 - accuracy: 0.5542 - val_loss: 0.7078 - val_accuracy: 0.4750\n",
      "Epoch 25/50\n",
      "23/23 [==============================] - 0s 4ms/step - loss: 0.6799 - accuracy: 0.5444 - val_loss: 0.7121 - val_accuracy: 0.4625\n",
      "Epoch 26/50\n",
      "23/23 [==============================] - 0s 4ms/step - loss: 0.6800 - accuracy: 0.5472 - val_loss: 0.7067 - val_accuracy: 0.4375\n",
      "Epoch 27/50\n",
      "23/23 [==============================] - 0s 5ms/step - loss: 0.6792 - accuracy: 0.5486 - val_loss: 0.7121 - val_accuracy: 0.4625\n",
      "Epoch 28/50\n",
      "23/23 [==============================] - 0s 4ms/step - loss: 0.6786 - accuracy: 0.5569 - val_loss: 0.7095 - val_accuracy: 0.4500\n",
      "Epoch 29/50\n",
      "23/23 [==============================] - 0s 4ms/step - loss: 0.6785 - accuracy: 0.5569 - val_loss: 0.7093 - val_accuracy: 0.4500\n",
      "Epoch 30/50\n",
      "23/23 [==============================] - 0s 4ms/step - loss: 0.6782 - accuracy: 0.5569 - val_loss: 0.7113 - val_accuracy: 0.4625\n",
      "Epoch 31/50\n",
      "23/23 [==============================] - 0s 4ms/step - loss: 0.6781 - accuracy: 0.5583 - val_loss: 0.7091 - val_accuracy: 0.4500\n",
      "Epoch 32/50\n",
      "23/23 [==============================] - 0s 5ms/step - loss: 0.6781 - accuracy: 0.5597 - val_loss: 0.7103 - val_accuracy: 0.4500\n",
      "Epoch 33/50\n",
      "23/23 [==============================] - 0s 4ms/step - loss: 0.6777 - accuracy: 0.5597 - val_loss: 0.7093 - val_accuracy: 0.4500\n",
      "Epoch 34/50\n",
      "23/23 [==============================] - 0s 4ms/step - loss: 0.6775 - accuracy: 0.5569 - val_loss: 0.7077 - val_accuracy: 0.4375\n",
      "Epoch 35/50\n",
      "23/23 [==============================] - 0s 4ms/step - loss: 0.6775 - accuracy: 0.5528 - val_loss: 0.7093 - val_accuracy: 0.4500\n",
      "Epoch 36/50\n",
      "23/23 [==============================] - 0s 4ms/step - loss: 0.6771 - accuracy: 0.5625 - val_loss: 0.7104 - val_accuracy: 0.4500\n",
      "Epoch 37/50\n",
      "23/23 [==============================] - 0s 4ms/step - loss: 0.6772 - accuracy: 0.5611 - val_loss: 0.7113 - val_accuracy: 0.4500\n",
      "Epoch 38/50\n",
      "23/23 [==============================] - 0s 4ms/step - loss: 0.6771 - accuracy: 0.5597 - val_loss: 0.7100 - val_accuracy: 0.4375\n",
      "Epoch 39/50\n",
      "23/23 [==============================] - 0s 5ms/step - loss: 0.6769 - accuracy: 0.5653 - val_loss: 0.7092 - val_accuracy: 0.4375\n",
      "Epoch 40/50\n",
      "23/23 [==============================] - 0s 5ms/step - loss: 0.6766 - accuracy: 0.5653 - val_loss: 0.7103 - val_accuracy: 0.4250\n",
      "Epoch 41/50\n",
      "23/23 [==============================] - 0s 4ms/step - loss: 0.6768 - accuracy: 0.5625 - val_loss: 0.7114 - val_accuracy: 0.4375\n",
      "Epoch 42/50\n",
      "23/23 [==============================] - 0s 4ms/step - loss: 0.6766 - accuracy: 0.5681 - val_loss: 0.7108 - val_accuracy: 0.4375\n",
      "Epoch 43/50\n",
      "23/23 [==============================] - 0s 5ms/step - loss: 0.6765 - accuracy: 0.5639 - val_loss: 0.7100 - val_accuracy: 0.4250\n",
      "Epoch 44/50\n",
      "23/23 [==============================] - 0s 4ms/step - loss: 0.6764 - accuracy: 0.5597 - val_loss: 0.7051 - val_accuracy: 0.4750\n",
      "Epoch 45/50\n",
      "23/23 [==============================] - 0s 5ms/step - loss: 0.6765 - accuracy: 0.5681 - val_loss: 0.7110 - val_accuracy: 0.4375\n",
      "Epoch 46/50\n",
      "23/23 [==============================] - 0s 4ms/step - loss: 0.6757 - accuracy: 0.5722 - val_loss: 0.7096 - val_accuracy: 0.4500\n",
      "Epoch 47/50\n",
      "23/23 [==============================] - 0s 5ms/step - loss: 0.6763 - accuracy: 0.5681 - val_loss: 0.7102 - val_accuracy: 0.4375\n",
      "Epoch 48/50\n",
      "23/23 [==============================] - 0s 4ms/step - loss: 0.6757 - accuracy: 0.5653 - val_loss: 0.7076 - val_accuracy: 0.4500\n",
      "Epoch 49/50\n",
      "23/23 [==============================] - 0s 5ms/step - loss: 0.6755 - accuracy: 0.5583 - val_loss: 0.7056 - val_accuracy: 0.4500\n",
      "Epoch 50/50\n",
      "23/23 [==============================] - 0s 4ms/step - loss: 0.6755 - accuracy: 0.5653 - val_loss: 0.7103 - val_accuracy: 0.4375\n"
     ]
    },
    {
     "data": {
      "text/plain": [
       "<keras.callbacks.History at 0x7f5dbc6a3340>"
      ]
     },
     "metadata": {},
     "output_type": "display_data"
    }
   ],
   "source": [
    "epochs = 50\n",
    "batch_size = 32\n",
    "model.fit(X_train, y_train, epochs=epochs, batch_size=batch_size, validation_split=0.1)"
   ]
  },
  {
   "cell_type": "code",
   "execution_count": null,
   "metadata": {},
   "outputs": [
    {
     "name": "stdout",
     "output_type": "stream",
     "text": [
      "7/7 [==============================] - 0s 3ms/step - loss: 0.6903 - accuracy: 0.5500\n",
      "Loss:  0.6902530193328857\n",
      "Accuracy:  0.550000011920929\n"
     ]
    }
   ],
   "source": [
    "loss, acc = model.evaluate(X_test, y_test, batch_size=batch_size)\n",
    "print(\"Loss: \", loss)\n",
    "print(\"Accuracy: \", acc)"
   ]
  },
  {
   "cell_type": "code",
   "execution_count": null,
   "metadata": {},
   "outputs": [
    {
     "name": "stdout",
     "output_type": "stream",
     "text": [
      "Epoch 1/50\n",
      "8/8 [==============================] - 0s 10ms/step - loss: 0.6750 - accuracy: 0.5722 - val_loss: 0.7094 - val_accuracy: 0.4500\n",
      "Epoch 2/50\n",
      "8/8 [==============================] - 0s 6ms/step - loss: 0.6749 - accuracy: 0.5736 - val_loss: 0.7099 - val_accuracy: 0.4500\n",
      "Epoch 3/50\n",
      "8/8 [==============================] - 0s 6ms/step - loss: 0.6748 - accuracy: 0.5750 - val_loss: 0.7117 - val_accuracy: 0.4250\n",
      "Epoch 4/50\n",
      "8/8 [==============================] - 0s 6ms/step - loss: 0.6749 - accuracy: 0.5806 - val_loss: 0.7132 - val_accuracy: 0.4000\n",
      "Epoch 5/50\n",
      "8/8 [==============================] - 0s 8ms/step - loss: 0.6748 - accuracy: 0.5778 - val_loss: 0.7117 - val_accuracy: 0.4375\n",
      "Epoch 6/50\n",
      "8/8 [==============================] - 0s 7ms/step - loss: 0.6748 - accuracy: 0.5750 - val_loss: 0.7117 - val_accuracy: 0.4375\n",
      "Epoch 7/50\n",
      "8/8 [==============================] - 0s 6ms/step - loss: 0.6747 - accuracy: 0.5736 - val_loss: 0.7121 - val_accuracy: 0.4250\n",
      "Epoch 8/50\n",
      "8/8 [==============================] - 0s 6ms/step - loss: 0.6746 - accuracy: 0.5764 - val_loss: 0.7131 - val_accuracy: 0.4000\n",
      "Epoch 9/50\n",
      "8/8 [==============================] - 0s 7ms/step - loss: 0.6747 - accuracy: 0.5806 - val_loss: 0.7136 - val_accuracy: 0.4000\n",
      "Epoch 10/50\n",
      "8/8 [==============================] - 0s 6ms/step - loss: 0.6745 - accuracy: 0.5819 - val_loss: 0.7122 - val_accuracy: 0.4375\n",
      "Epoch 11/50\n",
      "8/8 [==============================] - 0s 9ms/step - loss: 0.6745 - accuracy: 0.5764 - val_loss: 0.7118 - val_accuracy: 0.4375\n",
      "Epoch 12/50\n",
      "8/8 [==============================] - 0s 6ms/step - loss: 0.6744 - accuracy: 0.5750 - val_loss: 0.7099 - val_accuracy: 0.4500\n",
      "Epoch 13/50\n",
      "8/8 [==============================] - 0s 6ms/step - loss: 0.6745 - accuracy: 0.5639 - val_loss: 0.7081 - val_accuracy: 0.4500\n",
      "Epoch 14/50\n",
      "8/8 [==============================] - 0s 6ms/step - loss: 0.6743 - accuracy: 0.5639 - val_loss: 0.7075 - val_accuracy: 0.4500\n",
      "Epoch 15/50\n",
      "8/8 [==============================] - 0s 7ms/step - loss: 0.6743 - accuracy: 0.5667 - val_loss: 0.7087 - val_accuracy: 0.4500\n",
      "Epoch 16/50\n",
      "8/8 [==============================] - 0s 19ms/step - loss: 0.6742 - accuracy: 0.5653 - val_loss: 0.7096 - val_accuracy: 0.4375\n",
      "Epoch 17/50\n",
      "8/8 [==============================] - 0s 18ms/step - loss: 0.6742 - accuracy: 0.5681 - val_loss: 0.7088 - val_accuracy: 0.4500\n",
      "Epoch 18/50\n",
      "8/8 [==============================] - 0s 12ms/step - loss: 0.6744 - accuracy: 0.5639 - val_loss: 0.7068 - val_accuracy: 0.4500\n",
      "Epoch 19/50\n",
      "8/8 [==============================] - 0s 12ms/step - loss: 0.6742 - accuracy: 0.5667 - val_loss: 0.7074 - val_accuracy: 0.4500\n",
      "Epoch 20/50\n",
      "8/8 [==============================] - 0s 18ms/step - loss: 0.6742 - accuracy: 0.5667 - val_loss: 0.7086 - val_accuracy: 0.4500\n",
      "Epoch 21/50\n",
      "8/8 [==============================] - 0s 20ms/step - loss: 0.6741 - accuracy: 0.5681 - val_loss: 0.7084 - val_accuracy: 0.4500\n",
      "Epoch 22/50\n",
      "8/8 [==============================] - 0s 27ms/step - loss: 0.6740 - accuracy: 0.5681 - val_loss: 0.7091 - val_accuracy: 0.4500\n",
      "Epoch 23/50\n",
      "8/8 [==============================] - 0s 11ms/step - loss: 0.6742 - accuracy: 0.5722 - val_loss: 0.7103 - val_accuracy: 0.4375\n",
      "Epoch 24/50\n",
      "8/8 [==============================] - 0s 11ms/step - loss: 0.6740 - accuracy: 0.5694 - val_loss: 0.7088 - val_accuracy: 0.4500\n",
      "Epoch 25/50\n",
      "8/8 [==============================] - 0s 9ms/step - loss: 0.6739 - accuracy: 0.5681 - val_loss: 0.7089 - val_accuracy: 0.4500\n",
      "Epoch 26/50\n",
      "8/8 [==============================] - 0s 8ms/step - loss: 0.6738 - accuracy: 0.5681 - val_loss: 0.7083 - val_accuracy: 0.4500\n",
      "Epoch 27/50\n",
      "8/8 [==============================] - 0s 11ms/step - loss: 0.6738 - accuracy: 0.5667 - val_loss: 0.7082 - val_accuracy: 0.4500\n",
      "Epoch 28/50\n",
      "8/8 [==============================] - 0s 11ms/step - loss: 0.6738 - accuracy: 0.5681 - val_loss: 0.7084 - val_accuracy: 0.4500\n",
      "Epoch 29/50\n",
      "8/8 [==============================] - 0s 9ms/step - loss: 0.6737 - accuracy: 0.5681 - val_loss: 0.7082 - val_accuracy: 0.4500\n",
      "Epoch 30/50\n",
      "8/8 [==============================] - 0s 9ms/step - loss: 0.6737 - accuracy: 0.5694 - val_loss: 0.7084 - val_accuracy: 0.4500\n",
      "Epoch 31/50\n",
      "8/8 [==============================] - 0s 10ms/step - loss: 0.6735 - accuracy: 0.5681 - val_loss: 0.7102 - val_accuracy: 0.4500\n",
      "Epoch 32/50\n",
      "8/8 [==============================] - 0s 10ms/step - loss: 0.6736 - accuracy: 0.5736 - val_loss: 0.7120 - val_accuracy: 0.4500\n",
      "Epoch 33/50\n",
      "8/8 [==============================] - 0s 9ms/step - loss: 0.6735 - accuracy: 0.5750 - val_loss: 0.7111 - val_accuracy: 0.4500\n",
      "Epoch 34/50\n",
      "8/8 [==============================] - 0s 10ms/step - loss: 0.6735 - accuracy: 0.5708 - val_loss: 0.7108 - val_accuracy: 0.4500\n",
      "Epoch 35/50\n",
      "8/8 [==============================] - 0s 10ms/step - loss: 0.6735 - accuracy: 0.5708 - val_loss: 0.7112 - val_accuracy: 0.4500\n",
      "Epoch 36/50\n",
      "8/8 [==============================] - 0s 11ms/step - loss: 0.6734 - accuracy: 0.5736 - val_loss: 0.7113 - val_accuracy: 0.4500\n",
      "Epoch 37/50\n",
      "8/8 [==============================] - 0s 12ms/step - loss: 0.6733 - accuracy: 0.5778 - val_loss: 0.7124 - val_accuracy: 0.4250\n",
      "Epoch 38/50\n",
      "8/8 [==============================] - 0s 11ms/step - loss: 0.6733 - accuracy: 0.5778 - val_loss: 0.7131 - val_accuracy: 0.4125\n",
      "Epoch 39/50\n",
      "8/8 [==============================] - 0s 11ms/step - loss: 0.6734 - accuracy: 0.5792 - val_loss: 0.7148 - val_accuracy: 0.4000\n",
      "Epoch 40/50\n",
      "8/8 [==============================] - 0s 8ms/step - loss: 0.6733 - accuracy: 0.5819 - val_loss: 0.7160 - val_accuracy: 0.4000\n",
      "Epoch 41/50\n",
      "8/8 [==============================] - 0s 9ms/step - loss: 0.6733 - accuracy: 0.5819 - val_loss: 0.7135 - val_accuracy: 0.4250\n",
      "Epoch 42/50\n",
      "8/8 [==============================] - 0s 11ms/step - loss: 0.6731 - accuracy: 0.5792 - val_loss: 0.7143 - val_accuracy: 0.4125\n",
      "Epoch 43/50\n",
      "8/8 [==============================] - 0s 11ms/step - loss: 0.6731 - accuracy: 0.5792 - val_loss: 0.7144 - val_accuracy: 0.4125\n",
      "Epoch 44/50\n",
      "8/8 [==============================] - 0s 12ms/step - loss: 0.6730 - accuracy: 0.5792 - val_loss: 0.7137 - val_accuracy: 0.4250\n",
      "Epoch 45/50\n",
      "8/8 [==============================] - 0s 6ms/step - loss: 0.6730 - accuracy: 0.5708 - val_loss: 0.7095 - val_accuracy: 0.4625\n",
      "Epoch 46/50\n",
      "8/8 [==============================] - 0s 8ms/step - loss: 0.6731 - accuracy: 0.5694 - val_loss: 0.7071 - val_accuracy: 0.4625\n",
      "Epoch 47/50\n",
      "8/8 [==============================] - 0s 6ms/step - loss: 0.6730 - accuracy: 0.5722 - val_loss: 0.7080 - val_accuracy: 0.4625\n",
      "Epoch 48/50\n",
      "8/8 [==============================] - 0s 6ms/step - loss: 0.6728 - accuracy: 0.5694 - val_loss: 0.7092 - val_accuracy: 0.4625\n",
      "Epoch 49/50\n",
      "8/8 [==============================] - 0s 6ms/step - loss: 0.6728 - accuracy: 0.5694 - val_loss: 0.7099 - val_accuracy: 0.4500\n",
      "Epoch 50/50\n",
      "8/8 [==============================] - 0s 6ms/step - loss: 0.6726 - accuracy: 0.5722 - val_loss: 0.7102 - val_accuracy: 0.4500\n"
     ]
    },
    {
     "data": {
      "text/plain": [
       "<keras.callbacks.History at 0x7f5dbc4376a0>"
      ]
     },
     "metadata": {},
     "output_type": "display_data"
    }
   ],
   "source": [
    "model.fit(X_train, y_train, epochs=epochs, batch_size=100, validation_split=0.1)"
   ]
  },
  {
   "cell_type": "code",
   "execution_count": null,
   "metadata": {},
   "outputs": [
    {
     "name": "stdout",
     "output_type": "stream",
     "text": [
      "2/2 [==============================] - 0s 7ms/step - loss: 0.6909 - accuracy: 0.5700\n",
      "Loss:  0.6908571124076843\n",
      "Accuracy:  0.5699999928474426\n"
     ]
    }
   ],
   "source": [
    "loss, acc = model.evaluate(X_test, y_test, batch_size=100)\n",
    "print(\"Loss: \", loss)\n",
    "print(\"Accuracy: \", acc)"
   ]
  }
 ],
 "metadata": {
  "language_info": {
   "name": "python"
  },
  "orig_nbformat": 4
 },
 "nbformat": 4,
 "nbformat_minor": 2
}
