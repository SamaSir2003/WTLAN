{
 "cells": [
  {
   "cell_type": "code",
   "execution_count": 1,
   "metadata": {},
   "outputs": [
    {
     "name": "stderr",
     "output_type": "stream",
     "text": [
      "2023-11-07 12:56:54.409135: I tensorflow/core/platform/cpu_feature_guard.cc:182] This TensorFlow binary is optimized to use available CPU instructions in performance-critical operations.\n",
      "To enable the following instructions: AVX2 FMA, in other operations, rebuild TensorFlow with the appropriate compiler flags.\n",
      "2023-11-07 12:56:57.649434: W tensorflow/compiler/tf2tensorrt/utils/py_utils.cc:38] TF-TRT Warning: Could not find TensorRT\n"
     ]
    }
   ],
   "source": [
    "from keras.layers import Dense, Input, Conv2D, LSTM, MaxPool2D, UpSampling2D\n",
    "from sklearn.model_selection import train_test_split\n",
    "from keras.callbacks import EarlyStopping\n",
    "from keras.utils import to_categorical\n",
    "from numpy import argmax, array_equal\n",
    "import matplotlib.pyplot as plt\n",
    "from keras.models import Model\n",
    "from random import randint\n",
    "import pandas as pd\n",
    "import numpy as np\n",
    "import os\n",
    "from tensorflow.keras.preprocessing.image import array_to_img, img_to_array, load_img\n",
    "import random\n",
    "from sklearn.model_selection import train_test_split\n",
    "import keras.layers as layers\n"
   ]
  },
  {
   "cell_type": "code",
   "execution_count": 2,
   "metadata": {},
   "outputs": [],
   "source": [
    "images = []\n",
    "i=0\n",
    "for fname in os.listdir('./images/images'):\n",
    "    img = load_img(f'./images/images/{fname}')\n",
    "    img=img.resize([100,100])\n",
    "    images.append(img_to_array(img))\n"
   ]
  },
  {
   "cell_type": "code",
   "execution_count": 3,
   "metadata": {},
   "outputs": [],
   "source": [
    "size = 100 * 100 * 3\n"
   ]
  },
  {
   "cell_type": "code",
   "execution_count": 4,
   "metadata": {},
   "outputs": [],
   "source": [
    "images=np.array(images)\n",
    "images=images/255.00\n",
    "train_x,val_x=train_test_split(images,test_size=0.2)\n"
   ]
  },
  {
   "cell_type": "code",
   "execution_count": 5,
   "metadata": {},
   "outputs": [
    {
     "data": {
      "text/plain": [
       "(14027, 100, 100, 3)"
      ]
     },
     "execution_count": 5,
     "metadata": {},
     "output_type": "execute_result"
    }
   ],
   "source": [
    "train_x.shape\n"
   ]
  },
  {
   "cell_type": "code",
   "execution_count": 6,
   "metadata": {},
   "outputs": [
    {
     "data": {
      "text/plain": [
       "(3507, 100, 100, 3)"
      ]
     },
     "execution_count": 6,
     "metadata": {},
     "output_type": "execute_result"
    }
   ],
   "source": [
    "val_x.shape\n"
   ]
  },
  {
   "cell_type": "code",
   "execution_count": 7,
   "metadata": {},
   "outputs": [],
   "source": [
    "def noise(array):\n",
    "    \"\"\"\n",
    "    Adds random noise to each image in the supplied array.\n",
    "    \"\"\"\n",
    "\n",
    "    noise_factor = 0.4\n",
    "    noisy_array = array + noise_factor * np.random.normal(\n",
    "        loc=0.0, scale=1.0, size=array.shape\n",
    "    )\n",
    "\n",
    "    return np.clip(noisy_array, 0.0, 1.0)\n"
   ]
  },
  {
   "cell_type": "code",
   "execution_count": 8,
   "metadata": {},
   "outputs": [],
   "source": [
    "noisy_train_data = noise(train_x)\n",
    "noisy_test_data = noise(val_x)\n"
   ]
  },
  {
   "cell_type": "code",
   "execution_count": 9,
   "metadata": {},
   "outputs": [
    {
     "name": "stderr",
     "output_type": "stream",
     "text": [
      "2023-11-07 12:59:11.689235: I tensorflow/compiler/xla/stream_executor/cuda/cuda_gpu_executor.cc:981] could not open file to read NUMA node: /sys/bus/pci/devices/0000:22:00.0/numa_node\n",
      "Your kernel may have been built without NUMA support.\n",
      "2023-11-07 12:59:12.985032: I tensorflow/compiler/xla/stream_executor/cuda/cuda_gpu_executor.cc:981] could not open file to read NUMA node: /sys/bus/pci/devices/0000:22:00.0/numa_node\n",
      "Your kernel may have been built without NUMA support.\n",
      "2023-11-07 12:59:12.985214: I tensorflow/compiler/xla/stream_executor/cuda/cuda_gpu_executor.cc:981] could not open file to read NUMA node: /sys/bus/pci/devices/0000:22:00.0/numa_node\n",
      "Your kernel may have been built without NUMA support.\n",
      "2023-11-07 12:59:13.015830: I tensorflow/compiler/xla/stream_executor/cuda/cuda_gpu_executor.cc:981] could not open file to read NUMA node: /sys/bus/pci/devices/0000:22:00.0/numa_node\n",
      "Your kernel may have been built without NUMA support.\n",
      "2023-11-07 12:59:13.016013: I tensorflow/compiler/xla/stream_executor/cuda/cuda_gpu_executor.cc:981] could not open file to read NUMA node: /sys/bus/pci/devices/0000:22:00.0/numa_node\n",
      "Your kernel may have been built without NUMA support.\n",
      "2023-11-07 12:59:13.016094: I tensorflow/compiler/xla/stream_executor/cuda/cuda_gpu_executor.cc:981] could not open file to read NUMA node: /sys/bus/pci/devices/0000:22:00.0/numa_node\n",
      "Your kernel may have been built without NUMA support.\n",
      "2023-11-07 12:59:13.367689: I tensorflow/compiler/xla/stream_executor/cuda/cuda_gpu_executor.cc:981] could not open file to read NUMA node: /sys/bus/pci/devices/0000:22:00.0/numa_node\n",
      "Your kernel may have been built without NUMA support.\n",
      "2023-11-07 12:59:13.367808: I tensorflow/compiler/xla/stream_executor/cuda/cuda_gpu_executor.cc:981] could not open file to read NUMA node: /sys/bus/pci/devices/0000:22:00.0/numa_node\n",
      "Your kernel may have been built without NUMA support.\n",
      "2023-11-07 12:59:13.367819: I tensorflow/core/common_runtime/gpu/gpu_device.cc:1726] Could not identify NUMA node of platform GPU id 0, defaulting to 0.  Your kernel may not have been built with NUMA support.\n",
      "2023-11-07 12:59:13.367899: I tensorflow/compiler/xla/stream_executor/cuda/cuda_gpu_executor.cc:981] could not open file to read NUMA node: /sys/bus/pci/devices/0000:22:00.0/numa_node\n",
      "Your kernel may have been built without NUMA support.\n",
      "2023-11-07 12:59:13.367969: I tensorflow/core/common_runtime/gpu/gpu_device.cc:1639] Created device /job:localhost/replica:0/task:0/device:GPU:0 with 4714 MB memory:  -> device: 0, name: NVIDIA GeForce GTX 1060 6GB, pci bus id: 0000:22:00.0, compute capability: 6.1\n"
     ]
    },
    {
     "name": "stdout",
     "output_type": "stream",
     "text": [
      "Model: \"model\"\n",
      "_________________________________________________________________\n",
      " Layer (type)                Output Shape              Param #   \n",
      "=================================================================\n",
      " input_1 (InputLayer)        [(None, 100, 100, 3)]     0         \n",
      "_________________________________________________________________\n",
      " Layer (type)                Output Shape              Param #   \n",
      "=================================================================\n",
      " input_1 (InputLayer)        [(None, 100, 100, 3)]     0         \n",
      "                                                                 \n",
      " conv2d (Conv2D)             (None, 100, 100, 32)      896       \n",
      "                                                                 \n",
      " max_pooling2d (MaxPooling2  (None, 50, 50, 32)        0         \n",
      " D)                                                              \n",
      "                                                                 \n",
      " conv2d_1 (Conv2D)           (None, 50, 50, 32)        9248      \n",
      "                                                                 \n",
      " max_pooling2d_1 (MaxPoolin  (None, 25, 25, 32)        0         \n",
      " g2D)                                                            \n",
      "                                                                 \n",
      " conv2d_transpose (Conv2DTr  (None, 50, 50, 32)        9248      \n",
      " anspose)                                                        \n",
      "                                                                 \n",
      " conv2d_transpose_1 (Conv2D  (None, 100, 100, 32)      9248      \n",
      " Transpose)                                                      \n",
      "                                                                 \n",
      " conv2d_2 (Conv2D)           (None, 100, 100, 3)       867       \n",
      "                                                                 \n",
      "=================================================================\n",
      "Total params: 29507 (115.26 KB)\n",
      "Trainable params: 29507 (115.26 KB)\n",
      "Non-trainable params: 0 (0.00 Byte)\n",
      "_________________________________________________________________\n"
     ]
    }
   ],
   "source": [
    "input = layers.Input(shape=(100, 100, 3))\n",
    "\n",
    "# Encoder\n",
    "x = layers.Conv2D(32, (3, 3), activation=\"relu\", padding=\"same\")(input)\n",
    "x = layers.MaxPooling2D((2, 2), padding=\"same\")(x)\n",
    "x = layers.Conv2D(32, (3, 3), activation=\"relu\", padding=\"same\")(x)\n",
    "x = layers.MaxPooling2D((2, 2), padding=\"same\")(x)\n",
    "\n",
    "# Decoder\n",
    "x = layers.Conv2DTranspose(32, (3, 3), strides=2, activation=\"relu\", padding=\"same\")(x)\n",
    "x = layers.Conv2DTranspose(32, (3, 3), strides=2, activation=\"relu\", padding=\"same\")(x)\n",
    "x = layers.Conv2D(3, (3, 3), activation=\"sigmoid\", padding=\"same\")(x)\n",
    "\n",
    "# Autoencoder\n",
    "autoencoder = Model(input, x)\n",
    "autoencoder.compile(optimizer=\"adam\", loss=\"binary_crossentropy\")\n",
    "autoencoder.summary()\n"
   ]
  },
  {
   "cell_type": "code",
   "execution_count": 10,
   "metadata": {},
   "outputs": [
    {
     "name": "stderr",
     "output_type": "stream",
     "text": [
      "2023-11-07 12:59:15.019205: W tensorflow/tsl/framework/cpu_allocator_impl.cc:83] Allocation of 1683240000 exceeds 10% of free system memory.\n",
      "2023-11-07 12:59:16.370443: W tensorflow/tsl/framework/cpu_allocator_impl.cc:83] Allocation of 1683240000 exceeds 10% of free system memory.\n",
      "2023-11-07 12:59:22.165990: W tensorflow/tsl/framework/cpu_allocator_impl.cc:83] Allocation of 1683240000 exceeds 10% of free system memory.\n",
      "2023-11-07 12:59:22.929974: W tensorflow/tsl/framework/cpu_allocator_impl.cc:83] Allocation of 1683240000 exceeds 10% of free system memory.\n"
     ]
    },
    {
     "name": "stdout",
     "output_type": "stream",
     "text": [
      "Epoch 1/10\n"
     ]
    },
    {
     "name": "stderr",
     "output_type": "stream",
     "text": [
      "2023-11-07 12:59:31.812427: I tensorflow/compiler/xla/stream_executor/cuda/cuda_dnn.cc:432] Loaded cuDNN version 8600\n",
      "2023-11-07 12:59:33.479112: I tensorflow/tsl/platform/default/subprocess.cc:304] Start cannot spawn child process: No such file or directory\n",
      "2023-11-07 12:59:36.542258: I tensorflow/compiler/xla/service/service.cc:168] XLA service 0x7f9ee4606a30 initialized for platform CUDA (this does not guarantee that XLA will be used). Devices:\n",
      "2023-11-07 12:59:36.542346: I tensorflow/compiler/xla/service/service.cc:176]   StreamExecutor device (0): NVIDIA GeForce GTX 1060 6GB, Compute Capability 6.1\n",
      "2023-11-07 12:59:37.347094: I tensorflow/compiler/mlir/tensorflow/utils/dump_mlir_util.cc:255] disabling MLIR crash reproducer, set env var `MLIR_CRASH_REPRODUCER_DIRECTORY` to enable.\n",
      "2023-11-07 12:59:38.601099: I tensorflow/tsl/platform/default/subprocess.cc:304] Start cannot spawn child process: No such file or directory\n",
      "2023-11-07 12:59:38.812951: I ./tensorflow/compiler/jit/device_compiler.h:186] Compiled cluster using XLA!  This line is logged at most once for the lifetime of the process.\n"
     ]
    },
    {
     "name": "stdout",
     "output_type": "stream",
     "text": [
      "439/439 [==============================] - ETA: 0s - loss: 0.5335"
     ]
    },
    {
     "name": "stderr",
     "output_type": "stream",
     "text": [
      "2023-11-07 12:59:56.597672: W tensorflow/tsl/framework/cpu_allocator_impl.cc:83] Allocation of 420840000 exceeds 10% of free system memory.\n"
     ]
    },
    {
     "name": "stdout",
     "output_type": "stream",
     "text": [
      "439/439 [==============================] - 33s 44ms/step - loss: 0.5335 - val_loss: 0.5121\n",
      "Epoch 2/10\n",
      "439/439 [==============================] - 20s 46ms/step - loss: 0.5114 - val_loss: 0.5099\n",
      "Epoch 3/10\n",
      "439/439 [==============================] - 16s 37ms/step - loss: 0.5100 - val_loss: 0.5089\n",
      "Epoch 4/10\n",
      "439/439 [==============================] - 16s 37ms/step - loss: 0.5091 - val_loss: 0.5085\n",
      "Epoch 5/10\n",
      "439/439 [==============================] - 17s 38ms/step - loss: 0.5083 - val_loss: 0.5075\n",
      "Epoch 6/10\n",
      "439/439 [==============================] - 17s 38ms/step - loss: 0.5079 - val_loss: 0.5070\n",
      "Epoch 7/10\n",
      "439/439 [==============================] - 17s 39ms/step - loss: 0.5076 - val_loss: 0.5072\n",
      "Epoch 8/10\n",
      "439/439 [==============================] - 17s 38ms/step - loss: 0.5073 - val_loss: 0.5065\n",
      "Epoch 9/10\n",
      "439/439 [==============================] - 17s 38ms/step - loss: 0.5072 - val_loss: 0.5064\n",
      "Epoch 10/10\n",
      "439/439 [==============================] - 17s 38ms/step - loss: 0.5070 - val_loss: 0.5065\n"
     ]
    },
    {
     "data": {
      "text/plain": [
       "<keras.src.callbacks.History at 0x7fa1e3f78e90>"
      ]
     },
     "execution_count": 10,
     "metadata": {},
     "output_type": "execute_result"
    }
   ],
   "source": [
    "autoencoder.fit(\n",
    "    x=train_x,\n",
    "    y=train_x,\n",
    "    epochs=10,\n",
    "    batch_size=32,\n",
    "    shuffle=True,\n",
    "    validation_data=(val_x, val_x),\n",
    ")\n"
   ]
  },
  {
   "cell_type": "code",
   "execution_count": 14,
   "metadata": {},
   "outputs": [
    {
     "name": "stderr",
     "output_type": "stream",
     "text": [
      "2023-11-07 13:04:41.511232: W tensorflow/tsl/framework/bfc_allocator.cc:485] Allocator (GPU_0_bfc) ran out of memory trying to allocate 401.34MiB (rounded to 420840192)requested by op _EagerConst\n",
      "If the cause is memory fragmentation maybe the environment variable 'TF_GPU_ALLOCATOR=cuda_malloc_async' will improve the situation. \n",
      "Current allocation summary follows.\n",
      "Current allocation summary follows.\n",
      "2023-11-07 13:04:41.511307: I tensorflow/tsl/framework/bfc_allocator.cc:1039] BFCAllocator dump for GPU_0_bfc\n",
      "2023-11-07 13:04:41.511325: I tensorflow/tsl/framework/bfc_allocator.cc:1046] Bin (256): \tTotal Chunks: 39, Chunks in use: 39. 9.8KiB allocated for chunks. 9.8KiB in use in bin. 1.7KiB client-requested in use in bin.\n",
      "2023-11-07 13:04:41.511332: I tensorflow/tsl/framework/bfc_allocator.cc:1046] Bin (512): \tTotal Chunks: 0, Chunks in use: 0. 0B allocated for chunks. 0B in use in bin. 0B client-requested in use in bin.\n",
      "2023-11-07 13:04:41.511339: I tensorflow/tsl/framework/bfc_allocator.cc:1046] Bin (1024): \tTotal Chunks: 1, Chunks in use: 1. 1.2KiB allocated for chunks. 1.2KiB in use in bin. 1.0KiB client-requested in use in bin.\n",
      "2023-11-07 13:04:41.511346: I tensorflow/tsl/framework/bfc_allocator.cc:1046] Bin (2048): \tTotal Chunks: 5, Chunks in use: 5. 17.5KiB allocated for chunks. 17.5KiB in use in bin. 16.9KiB client-requested in use in bin.\n",
      "2023-11-07 13:04:41.511353: I tensorflow/tsl/framework/bfc_allocator.cc:1046] Bin (4096): \tTotal Chunks: 1, Chunks in use: 1. 6.0KiB allocated for chunks. 6.0KiB in use in bin. 3.4KiB client-requested in use in bin.\n",
      "2023-11-07 13:04:41.511359: I tensorflow/tsl/framework/bfc_allocator.cc:1046] Bin (8192): \tTotal Chunks: 0, Chunks in use: 0. 0B allocated for chunks. 0B in use in bin. 0B client-requested in use in bin.\n",
      "2023-11-07 13:04:41.511364: I tensorflow/tsl/framework/bfc_allocator.cc:1046] Bin (16384): \tTotal Chunks: 0, Chunks in use: 0. 0B allocated for chunks. 0B in use in bin. 0B client-requested in use in bin.\n",
      "2023-11-07 13:04:41.511371: I tensorflow/tsl/framework/bfc_allocator.cc:1046] Bin (32768): \tTotal Chunks: 9, Chunks in use: 9. 349.2KiB allocated for chunks. 349.2KiB in use in bin. 324.0KiB client-requested in use in bin.\n",
      "2023-11-07 13:04:41.511377: I tensorflow/tsl/framework/bfc_allocator.cc:1046] Bin (65536): \tTotal Chunks: 0, Chunks in use: 0. 0B allocated for chunks. 0B in use in bin. 0B client-requested in use in bin.\n",
      "2023-11-07 13:04:41.511382: I tensorflow/tsl/framework/bfc_allocator.cc:1046] Bin (131072): \tTotal Chunks: 0, Chunks in use: 0. 0B allocated for chunks. 0B in use in bin. 0B client-requested in use in bin.\n",
      "2023-11-07 13:04:41.511388: I tensorflow/tsl/framework/bfc_allocator.cc:1046] Bin (262144): \tTotal Chunks: 0, Chunks in use: 0. 0B allocated for chunks. 0B in use in bin. 0B client-requested in use in bin.\n",
      "2023-11-07 13:04:41.511393: I tensorflow/tsl/framework/bfc_allocator.cc:1046] Bin (524288): \tTotal Chunks: 0, Chunks in use: 0. 0B allocated for chunks. 0B in use in bin. 0B client-requested in use in bin.\n",
      "2023-11-07 13:04:41.511399: I tensorflow/tsl/framework/bfc_allocator.cc:1046] Bin (1048576): \tTotal Chunks: 0, Chunks in use: 0. 0B allocated for chunks. 0B in use in bin. 0B client-requested in use in bin.\n",
      "2023-11-07 13:04:41.511406: I tensorflow/tsl/framework/bfc_allocator.cc:1046] Bin (2097152): \tTotal Chunks: 42, Chunks in use: 40. 153.81MiB allocated for chunks. 146.48MiB in use in bin. 146.48MiB client-requested in use in bin.\n",
      "2023-11-07 13:04:41.511411: I tensorflow/tsl/framework/bfc_allocator.cc:1046] Bin (4194304): \tTotal Chunks: 0, Chunks in use: 0. 0B allocated for chunks. 0B in use in bin. 0B client-requested in use in bin.\n",
      "2023-11-07 13:04:41.511417: I tensorflow/tsl/framework/bfc_allocator.cc:1046] Bin (8388608): \tTotal Chunks: 0, Chunks in use: 0. 0B allocated for chunks. 0B in use in bin. 0B client-requested in use in bin.\n",
      "2023-11-07 13:04:41.511422: I tensorflow/tsl/framework/bfc_allocator.cc:1046] Bin (16777216): \tTotal Chunks: 0, Chunks in use: 0. 0B allocated for chunks. 0B in use in bin. 0B client-requested in use in bin.\n",
      "2023-11-07 13:04:41.511428: I tensorflow/tsl/framework/bfc_allocator.cc:1046] Bin (33554432): \tTotal Chunks: 0, Chunks in use: 0. 0B allocated for chunks. 0B in use in bin. 0B client-requested in use in bin.\n",
      "2023-11-07 13:04:41.511433: I tensorflow/tsl/framework/bfc_allocator.cc:1046] Bin (67108864): \tTotal Chunks: 0, Chunks in use: 0. 0B allocated for chunks. 0B in use in bin. 0B client-requested in use in bin.\n",
      "2023-11-07 13:04:41.511439: I tensorflow/tsl/framework/bfc_allocator.cc:1046] Bin (134217728): \tTotal Chunks: 1, Chunks in use: 0. 145.26MiB allocated for chunks. 0B in use in bin. 0B client-requested in use in bin.\n",
      "2023-11-07 13:04:41.511447: I tensorflow/tsl/framework/bfc_allocator.cc:1046] Bin (268435456): \tTotal Chunks: 5, Chunks in use: 5. 4.31GiB allocated for chunks. 4.31GiB in use in bin. 4.31GiB client-requested in use in bin.\n",
      "2023-11-07 13:04:41.511453: I tensorflow/tsl/framework/bfc_allocator.cc:1062] Bin for 401.34MiB was 256.00MiB, Chunk State: \n",
      "2023-11-07 13:04:41.511460: I tensorflow/tsl/framework/bfc_allocator.cc:1075] Next region of size 4942987264\n",
      "2023-11-07 13:04:41.511467: I tensorflow/tsl/framework/bfc_allocator.cc:1095] InUse at 703800000 of size 1280 next 1\n",
      "2023-11-07 13:04:41.511471: I tensorflow/tsl/framework/bfc_allocator.cc:1095] InUse at 703800500 of size 256 next 2\n",
      "2023-11-07 13:04:41.511474: I tensorflow/tsl/framework/bfc_allocator.cc:1095] InUse at 70380"
     ]
    },
    {
     "ename": "InternalError",
     "evalue": "Failed copying input tensor from /job:localhost/replica:0/task:0/device:CPU:0 to /job:localhost/replica:0/task:0/device:GPU:0 in order to run _EagerConst: Dst tensor is not initialized.",
     "output_type": "error",
     "traceback": [
      "\u001b[0;31m---------------------------------------------------------------------------\u001b[0m",
      "\u001b[0;31mInternalError\u001b[0m                             Traceback (most recent call last)",
      "\u001b[1;32m/mnt/f/Programming/DSE/Year 3/Semester 5/DL lab/Week 9/W9_new.ipynb Cell 11\u001b[0m line \u001b[0;36m1\n\u001b[0;32m----> <a href='vscode-notebook-cell://wsl%2Bfedora/mnt/f/Programming/DSE/Year%203/Semester%205/DL%20lab/Week%209/W9_new.ipynb#X13sdnNjb2RlLXJlbW90ZQ%3D%3D?line=0'>1</a>\u001b[0m predictions \u001b[39m=\u001b[39m autoencoder\u001b[39m.\u001b[39;49mpredict(val_x)\n",
      "File \u001b[0;32m~/miniconda3/envs/dse/lib/python3.11/site-packages/keras/src/utils/traceback_utils.py:70\u001b[0m, in \u001b[0;36mfilter_traceback.<locals>.error_handler\u001b[0;34m(*args, **kwargs)\u001b[0m\n\u001b[1;32m     67\u001b[0m     filtered_tb \u001b[39m=\u001b[39m _process_traceback_frames(e\u001b[39m.\u001b[39m__traceback__)\n\u001b[1;32m     68\u001b[0m     \u001b[39m# To get the full stack trace, call:\u001b[39;00m\n\u001b[1;32m     69\u001b[0m     \u001b[39m# `tf.debugging.disable_traceback_filtering()`\u001b[39;00m\n\u001b[0;32m---> 70\u001b[0m     \u001b[39mraise\u001b[39;00m e\u001b[39m.\u001b[39mwith_traceback(filtered_tb) \u001b[39mfrom\u001b[39;00m \u001b[39mNone\u001b[39;00m\n\u001b[1;32m     71\u001b[0m \u001b[39mfinally\u001b[39;00m:\n\u001b[1;32m     72\u001b[0m     \u001b[39mdel\u001b[39;00m filtered_tb\n",
      "File \u001b[0;32m~/miniconda3/envs/dse/lib/python3.11/site-packages/tensorflow/python/framework/constant_op.py:98\u001b[0m, in \u001b[0;36mconvert_to_eager_tensor\u001b[0;34m(value, ctx, dtype)\u001b[0m\n\u001b[1;32m     96\u001b[0m     dtype \u001b[39m=\u001b[39m dtypes\u001b[39m.\u001b[39mas_dtype(dtype)\u001b[39m.\u001b[39mas_datatype_enum\n\u001b[1;32m     97\u001b[0m ctx\u001b[39m.\u001b[39mensure_initialized()\n\u001b[0;32m---> 98\u001b[0m \u001b[39mreturn\u001b[39;00m ops\u001b[39m.\u001b[39;49mEagerTensor(value, ctx\u001b[39m.\u001b[39;49mdevice_name, dtype)\n",
      "\u001b[0;31mInternalError\u001b[0m: Failed copying input tensor from /job:localhost/replica:0/task:0/device:CPU:0 to /job:localhost/replica:0/task:0/device:GPU:0 in order to run _EagerConst: Dst tensor is not initialized."
     ]
    },
    {
     "name": "stderr",
     "output_type": "stream",
     "text": [
      "0600 of size 256 next 3\n",
      "2023-11-07 13:04:41.511478: I tensorflow/tsl/framework/bfc_allocator.cc:1095] InUse at 703800700 of size 256 next 5\n",
      "2023-11-07 13:04:41.511482: I tensorflow/tsl/framework/bfc_allocator.cc:1095] InUse at 703800800 of size 256 next 6\n",
      "2023-11-07 13:04:41.511485: I tensorflow/tsl/framework/bfc_allocator.cc:1095] InUse at 703800900 of size 256 next 4\n",
      "2023-11-07 13:04:41.511489: I tensorflow/tsl/framework/bfc_allocator.cc:1095] InUse at 703800a00 of size 256 next 7\n",
      "2023-11-07 13:04:41.511493: I tensorflow/tsl/framework/bfc_allocator.cc:1095] InUse at 703800b00 of size 256 next 12\n",
      "2023-11-07 13:04:41.511496: I tensorflow/tsl/framework/bfc_allocator.cc:1095] InUse at 703800c00 of size 256 next 15\n",
      "2023-11-07 13:04:41.511500: I tensorflow/tsl/framework/bfc_allocator.cc:1095] InUse at 703800d00 of size 256 next 17\n",
      "2023-11-07 13:04:41.511504: I tensorflow/tsl/framework/bfc_allocator.cc:1095] InUse at 703800e00 of size 6144 next 8\n",
      "2023-11-07 13:04:41.511508: I tensorflow/tsl/framework/bfc_allocator.cc:1095] InUse at 703802600 of size 3584 next 9\n",
      "2023-11-07 13:04:41.511511: I tensorflow/tsl/framework/bfc_allocator.cc:1095] InUse at 703803400 of size 256 next 11\n",
      "2023-11-07 13:04:41.511515: I tensorflow/tsl/framework/bfc_allocator.cc:1095] InUse at 703803500 of size 256 next 10\n",
      "2023-11-07 13:04:41.511518: I tensorflow/tsl/framework/bfc_allocator.cc:1095] InUse at 703803600 of size 256 next 19\n",
      "2023-11-07 13:04:41.511522: I tensorflow/tsl/framework/bfc_allocator.cc:1095] InUse at 703803700 of size 256 next 22\n",
      "2023-11-07 13:04:41.511526: I tensorflow/tsl/framework/bfc_allocator.cc:1095] InUse at 703803800 of size 256 next 23\n",
      "2023-11-07 13:04:41.511529: I tensorflow/tsl/framework/bfc_allocator.cc:1095] InUse at 703803900 of size 256 next 24\n",
      "2023-11-07 13:04:41.511533: I tensorflow/tsl/framework/bfc_allocator.cc:1095] InUse at 703803a00 of size 256 next 27\n",
      "2023-11-07 13:04:41.511536: I tensorflow/tsl/framework/bfc_allocator.cc:1095] InUse at 703803b00 of size 256 next 28\n",
      "2023-11-07 13:04:41.511540: I tensorflow/tsl/framework/bfc_allocator.cc:1095] InUse at 703803c00 of size 256 next 29\n",
      "2023-11-07 13:04:41.511544: I tensorflow/tsl/framework/bfc_allocator.cc:1095] InUse at 703803d00 of size 256 next 31\n",
      "2023-11-07 13:04:41.511547: I tensorflow/tsl/framework/bfc_allocator.cc:1095] InUse at 703803e00 of size 256 next 32\n",
      "2023-11-07 13:04:41.511551: I tensorflow/tsl/framework/bfc_allocator.cc:1095] InUse at 703803f00 of size 256 next 34\n",
      "2023-11-07 13:04:41.511554: I tensorflow/tsl/framework/bfc_allocator.cc:1095] InUse at 703804000 of size 256 next 35\n",
      "2023-11-07 13:04:41.511558: I tensorflow/tsl/framework/bfc_allocator.cc:1095] InUse at 703804100 of size 256 next 38\n",
      "2023-11-07 13:04:41.511562: I tensorflow/tsl/framework/bfc_allocator.cc:1095] InUse at 703804200 of size 256 next 20\n",
      "2023-11-07 13:04:41.511565: I tensorflow/tsl/framework/bfc_allocator.cc:1095] InUse at 703804300 of size 3584 next 21\n",
      "2023-11-07 13:04:41.511569: I tensorflow/tsl/framework/bfc_allocator.cc:1095] InUse at 703805100 of size 3584 next 30\n",
      "2023-11-07 13:04:41.511573: I tensorflow/tsl/framework/bfc_allocator.cc:1095] InUse at 703805f00 of size 62720 next 14\n",
      "2023-11-07 13:04:41.511577: I tensorflow/tsl/framework/bfc_allocator.cc:1095] InUse at 703815400 of size 36864 next 13\n",
      "2023-11-07 13:04:41.511581: I tensorflow/tsl/framework/bfc_allocator.cc:1095] InUse at 70381e400 of size 36864 next 16\n",
      "2023-11-07 13:04:41.511585: I tensorflow/tsl/framework/bfc_allocator.cc:1095] InUse at 703827400 of size 36864 next 18\n",
      "2023-11-07 13:04:41.511588: I tensorflow/tsl/framework/bfc_allocator.cc:1095] InUse at 703830400 of size 1683240192 next 25\n",
      "2023-11-07 13:04:41.511592: I tensorflow/tsl/framework/bfc_allocator.cc:1095] InUse at 767d73900 of size 1683240192 next 26\n",
      "2023-11-07 13:04:41.511596: I tensorflow/tsl/framework/bfc_allocator.cc:1095] InUse at 7cc2b6e00 of size 36864 next 33\n",
      "2023-11-07 13:04:41.511599: I tensorflow/tsl/framework/bfc_allocator.cc:1095] InUse at 7cc2bfe00 of size 36864 next 36\n",
      "2023-11-07 13:04:41.511603: I tensorflow/tsl/framework/bfc_allocator.cc:1095] InUse at 7cc2c8e00 of size 36864 next 37\n",
      "2023-11-07 13:04:41.511607: I tensorflow/tsl/framework/bfc_allocator.cc:1095] InUse at 7cc2d1e00 of size 36864 next 39\n",
      "2023-11-07 13:04:41.511610: I tensorflow/tsl/framework/bfc_allocator.cc:1095] InUse at 7cc2dae00 of size 36864 next 40\n",
      "2023-11-07 13:04:41.511614: I tensorflow/tsl/framework/bfc_allocator.cc:1095] InUse at 7cc2e3e00 of size 256 next 41\n",
      "2023-11-07 13:04:41.511618: I tensorflow/tsl/framework/bfc_allocator.cc:1095] InUse at 7cc2e3f00 of size 256 next 42\n",
      "2023-11-07 13:04:41.511621: I tensorflow/tsl/framework/bfc_allocator.cc:1095] InUse at 7cc2e4000 of size 3584 next 43\n",
      "2023-11-07 13:04:41.511625: I tensorflow/tsl/framework/bfc_allocator.cc:1095] InUse at 7cc2e4e00 of size 3584 next 44\n",
      "2023-11-07 13:04:41.511629: I tensorflow/tsl/framework/bfc_allocator.cc:1095] InUse at 7cc2e5c00 of size 256 next 45\n",
      "2023-11-07 13:04:41.511632: I tensorflow/tsl/framework/bfc_allocator.cc:1095] InUse at 7cc2e5d00 of size 256 next 46\n",
      "2023-11-07 13:04:41.511636: I tensorflow/tsl/framework/bfc_allocator.cc:1095] InUse at 7cc2e5e00 of size 256 next 47\n",
      "2023-11-07 13:04:41.511639: I tensorflow/tsl/framework/bfc_allocator.cc:1095] InUse at 7cc2e5f00 of size 256 next 48\n",
      "2023-11-07 13:04:41.511643: I tensorflow/tsl/framework/bfc_allocator.cc:1095] InUse at 7cc2e6000 of size 256 next 49\n",
      "2023-11-07 13:04:41.511647: I tensorflow/tsl/framework/bfc_allocator.cc:1095] InUse at 7cc2e6100 of size 256 next 50\n",
      "2023-11-07 13:04:41.511650: I tensorflow/tsl/framework/bfc_allocator.cc:1095] InUse at 7cc2e6200 of size 256 next 52\n",
      "2023-11-07 13:04:41.511654: I tensorflow/tsl/framework/bfc_allocator.cc:1095] InUse at 7cc2e6300 of size 256 next 59\n",
      "2023-11-07 13:04:41.511657: I tensorflow/tsl/framework/bfc_allocator.cc:1095] InUse at 7cc2e6400 of size 256 next 51\n",
      "2023-11-07 13:04:41.511661: I tensorflow/tsl/framework/bfc_allocator.cc:1095] InUse at 7cc2e6500 of size 256 next 68\n",
      "2023-11-07 13:04:41.511665: I tensorflow/tsl/framework/bfc_allocator.cc:1095] InUse at 7cc2e6600 of size 256 next 78\n",
      "2023-11-07 13:04:41.511668: I tensorflow/tsl/framework/bfc_allocator.cc:1095] InUse at 7cc2e6700 of size 256 next 56\n",
      "2023-11-07 13:04:41.511672: I tensorflow/tsl/framework/bfc_allocator.cc:1095] Free  at 7cc2e6800 of size 3838720 next 55\n",
      "2023-11-07 13:04:41.511676: I tensorflow/tsl/framework/bfc_allocator.cc:1095] InUse at 7cc68fb00 of size 256 next 72\n",
      "2023-11-07 13:04:41.511679: I tensorflow/tsl/framework/bfc_allocator.cc:1095] InUse at 7cc68fc00 of size 420840192 next 54\n",
      "2023-11-07 13:04:41.511684: I tensorflow/tsl/framework/bfc_allocator.cc:1095] InUse at 7e57e7f00 of size 420840192 next 71\n",
      "2023-11-07 13:04:41.511688: I tensorflow/tsl/framework/bfc_allocator.cc:1095] InUse at 7fe940200 of size 420840192 next 83\n",
      "2023-11-07 13:04:41.511692: I tensorflow/tsl/framework/bfc_allocator.cc:1095] Free  at 817a98500 of size 3840000 next 63\n",
      "2023-11-07 13:04:41.511695: I tensorflow/tsl/framework/bfc_allocator.cc:1095] InUse at 817e41d00 of size 3840000 next 70\n",
      "2023-11-07 13:04:41.511699: I tensorflow/tsl/framework/bfc_allocator.cc:1095] InUse at 8181eb500 of size 3840000 next 84\n",
      "2023-11-07 13:04:41.511703: I tensorflow/tsl/framework/bfc_allocator.cc:1095] InUse at 818594d00 of size 3840000 next 61\n",
      "2023-11-07 13:04:41.511707: I tensorflow/tsl/framework/bfc_allocator.cc:1095] InUse at 81893e500 of size 3840000 next 66\n",
      "2023-11-07 13:04:41.511710: I tensorflow/tsl/framework/bfc_allocator.cc:1095] InUse at 818ce7d00 of size 3840000 next 53\n",
      "2023-11-07 13:04:41.511714: I tensorflow/tsl/framework/bfc_allocator.cc:1095] InUse at 819091500 of size 3840000 next 60\n",
      "2023-11-07 13:04:41.511718: I tensorflow/tsl/framework/bfc_allocator.cc:1095] InUse at 81943ad00 of size 3840000 next 57\n",
      "2023-11-07 13:04:41.511721: I tensorflow/tsl/framework/bfc_allocator.cc:1095] InUse at 8197e4500 of size 3840000 next 65\n",
      "2023-11-07 13:04:41.511725: I tensorflow/tsl/framework/bfc_allocator.cc:1095] InUse at 819b8dd00 of size 3840000 next 62\n",
      "2023-11-07 13:04:41.511728: I tensorflow/tsl/framework/bfc_allocator.cc:1095] InUse at 819f37500 of size 3840000 next 79\n",
      "2023-11-07 13:04:41.511732: I tensorflow/tsl/framework/bfc_allocator.cc:1095] InUse at 81a2e0d00 of size 3840000 next 67\n",
      "2023-11-07 13:04:41.511736: I tensorflow/tsl/framework/bfc_allocator.cc:1095] InUse at 81a68a500 of size 3840000 next 82\n",
      "2023-11-07 13:04:41.511739: I tensorflow/tsl/framework/bfc_allocator.cc:1095] InUse at 81aa33d00 of size 3840000 next 76\n",
      "2023-11-07 13:04:41.511743: I tensorflow/tsl/framework/bfc_allocator.cc:1095] InUse at 81addd500 of size 3840000 next 77\n",
      "2023-11-07 13:04:41.511746: I tensorflow/tsl/framework/bfc_allocator.cc:1095] InUse at 81b186d00 of size 3840000 next 58\n",
      "2023-11-07 13:04:41.511750: I tensorflow/tsl/framework/bfc_allocator.cc:1095] InUse at 81b530500 of size 3840000 next 73\n",
      "2023-11-07 13:04:41.511754: I tensorflow/tsl/framework/bfc_allocator.cc:1095] InUse at 81b8d9d00 of size 3840000 next 75\n",
      "2023-11-07 13:04:41.511757: I tensorflow/tsl/framework/bfc_allocator.cc:1095] InUse at 81bc83500 of size 3840000 next 74\n",
      "2023-11-07 13:04:41.511761: I tensorflow/tsl/framework/bfc_allocator.cc:1095] InUse at 81c02cd00 of size 3840000 next 80\n",
      "2023-11-07 13:04:41.511765: I tensorflow/tsl/framework/bfc_allocator.cc:1095] InUse at 81c3d6500 of size 3840000 next 64\n",
      "2023-11-07 13:04:41.511768: I tensorflow/tsl/framework/bfc_allocator.cc:1095] InUse at 81c77fd00 of size 3840000 next 69\n",
      "2023-11-07 13:04:41.511772: I tensorflow/tsl/framework/bfc_allocator.cc:1095] InUse at 81cb29500 of size 3840000 next 81\n",
      "2023-11-07 13:04:41.511775: I tensorflow/tsl/framework/bfc_allocator.cc:1095] InUse at 81ced2d00 of size 3840000 next 85\n",
      "2023-11-07 13:04:41.511779: I tensorflow/tsl/framework/bfc_allocator.cc:1095] InUse at 81d27c500 of size 3840000 next 86\n",
      "2023-11-07 13:04:41.511783: I tensorflow/tsl/framework/bfc_allocator.cc:1095] InUse at 81d625d00 of size 3840000 next 87\n",
      "2023-11-07 13:04:41.511786: I tensorflow/tsl/framework/bfc_allocator.cc:1095] InUse at 81d9cf500 of size 3840000 next 88\n",
      "2023-11-07 13:04:41.511790: I tensorflow/tsl/framework/bfc_allocator.cc:1095] InUse at 81dd78d00 of size 3840000 next 89\n",
      "2023-11-07 13:04:41.511794: I tensorflow/tsl/framework/bfc_allocator.cc:1095] InUse at 81e122500 of size 3840000 next 90\n",
      "2023-11-07 13:04:41.511797: I tensorflow/tsl/framework/bfc_allocator.cc:1095] InUse at 81e4cbd00 of size 3840000 next 91\n",
      "2023-11-07 13:04:41.511801: I tensorflow/tsl/framework/bfc_allocator.cc:1095] InUse at 81e875500 of size 3840000 next 92\n",
      "2023-11-07 13:04:41.511805: I tensorflow/tsl/framework/bfc_allocator.cc:1095] InUse at 81ec1ed00 of size 3840000 next 97\n",
      "2023-11-07 13:04:41.511808: I tensorflow/tsl/framework/bfc_allocator.cc:1095] InUse at 81efc8500 of size 3840000 next 98\n",
      "2023-11-07 13:04:41.511812: I tensorflow/tsl/framework/bfc_allocator.cc:1095] InUse at 81f371d00 of size 3840000 next 99\n",
      "2023-11-07 13:04:41.511815: I tensorflow/tsl/framework/bfc_allocator.cc:1095] InUse at 81f71b500 of size 3840000 next 100\n",
      "2023-11-07 13:04:41.511819: I tensorflow/tsl/framework/bfc_allocator.cc:1095] InUse at 81fac4d00 of size 3840000 next 101\n",
      "2023-11-07 13:04:41.511823: I tensorflow/tsl/framework/bfc_allocator.cc:1095] InUse at 81fe6e500 of size 3840000 next 102\n",
      "2023-11-07 13:04:41.511827: I tensorflow/tsl/framework/bfc_allocator.cc:1095] InUse at 820217d00 of size 3840000 next 103\n",
      "2023-11-07 13:04:41.511830: I tensorflow/tsl/framework/bfc_allocator.cc:1095] InUse at 8205c1500 of size 3840000 next 104\n",
      "2023-11-07 13:04:41.511834: I tensorflow/tsl/framework/bfc_allocator.cc:1095] InUse at 82096ad00 of size 3840000 next 105\n",
      "2023-11-07 13:04:41.511838: I tensorflow/tsl/framework/bfc_allocator.cc:1095] InUse at 820d14500 of size 3840000 next 106\n",
      "2023-11-07 13:04:41.511842: I tensorflow/tsl/framework/bfc_allocator.cc:1095] Free  at 8210bdd00 of size 152314624 next 18446744073709551615\n",
      "2023-11-07 13:04:41.511845: I tensorflow/tsl/framework/bfc_allocator.cc:1100]      Summary of in-use Chunks by size: \n",
      "2023-11-07 13:04:41.511850: I tensorflow/tsl/framework/bfc_allocator.cc:1103] 39 Chunks of size 256 totalling 9.8KiB\n",
      "2023-11-07 13:04:41.511855: I tensorflow/tsl/framework/bfc_allocator.cc:1103] 1 Chunks of size 1280 totalling 1.2KiB\n",
      "2023-11-07 13:04:41.511859: I tensorflow/tsl/framework/bfc_allocator.cc:1103] 5 Chunks of size 3584 totalling 17.5KiB\n",
      "2023-11-07 13:04:41.511864: I tensorflow/tsl/framework/bfc_allocator.cc:1103] 1 Chunks of size 6144 totalling 6.0KiB\n",
      "2023-11-07 13:04:41.511868: I tensorflow/tsl/framework/bfc_allocator.cc:1103] 8 Chunks of size 36864 totalling 288.0KiB\n",
      "2023-11-07 13:04:41.511872: I tensorflow/tsl/framework/bfc_allocator.cc:1103] 1 Chunks of size 62720 totalling 61.2KiB\n",
      "2023-11-07 13:04:41.511876: I tensorflow/tsl/framework/bfc_allocator.cc:1103] 40 Chunks of size 3840000 totalling 146.48MiB\n",
      "2023-11-07 13:04:41.511881: I tensorflow/tsl/framework/bfc_allocator.cc:1103] 3 Chunks of size 420840192 totalling 1.18GiB\n",
      "2023-11-07 13:04:41.511885: I tensorflow/tsl/framework/bfc_allocator.cc:1103] 2 Chunks of size 1683240192 totalling 3.13GiB\n",
      "2023-11-07 13:04:41.511889: I tensorflow/tsl/framework/bfc_allocator.cc:1107] Sum Total of in-use chunks: 4.45GiB\n",
      "2023-11-07 13:04:41.511894: I tensorflow/tsl/framework/bfc_allocator.cc:1109] Total bytes in pool: 4942987264 memory_limit_: 4942987264 available bytes: 0 curr_region_allocation_bytes_: 9885974528\n",
      "2023-11-07 13:04:41.511902: I tensorflow/tsl/framework/bfc_allocator.cc:1114] Stats: \n",
      "Limit:                      4942987264\n",
      "InUse:                      4782993920\n",
      "MaxInUse:                   4914451712\n",
      "NumAllocs:                      479011\n",
      "MaxAllocSize:               1683240192\n",
      "Reserved:                            0\n",
      "PeakReserved:                        0\n",
      "LargestFreeBlock:                    0\n",
      "\n",
      "2023-11-07 13:04:41.511909: W tensorflow/tsl/framework/bfc_allocator.cc:497] *************************************************************************************************___\n"
     ]
    }
   ],
   "source": [
    "predictions = autoencoder.predict(val_x)\n"
   ]
  },
  {
   "cell_type": "code",
   "execution_count": null,
   "metadata": {},
   "outputs": [],
   "source": []
  }
 ],
 "metadata": {
  "kernelspec": {
   "display_name": "dse",
   "language": "python",
   "name": "python3"
  },
  "language_info": {
   "codemirror_mode": {
    "name": "ipython",
    "version": 3
   },
   "file_extension": ".py",
   "mimetype": "text/x-python",
   "name": "python",
   "nbconvert_exporter": "python",
   "pygments_lexer": "ipython3",
   "version": "3.11.4"
  }
 },
 "nbformat": 4,
 "nbformat_minor": 2
}
